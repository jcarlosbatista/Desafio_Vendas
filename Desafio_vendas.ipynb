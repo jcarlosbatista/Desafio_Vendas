{
 "cells": [
  {
   "cell_type": "markdown",
   "id": "934ce06c",
   "metadata": {},
   "source": [
    "### Biblioteca Pandas | Leitura do arquivo vendas.csv"
   ]
  },
  {
   "cell_type": "code",
   "execution_count": 4,
   "id": "69571034",
   "metadata": {},
   "outputs": [],
   "source": [
    "import pandas as pd\n",
    "\n",
    "# Caminho para o arquivo\n",
    "file_path = '/Users/batista/Downloads/vendas.csv'"
   ]
  },
  {
   "cell_type": "markdown",
   "id": "910176a7",
   "metadata": {},
   "source": [
    "### Inicializando acumuladores\n",
    "\n",
    "Vamos usar para armazenar resultados intermediários ou parciais durante o processamento de grandes volume de dados.\n",
    "\n",
    "Especialmente quando usamos aas técnicas de chunking para processar partes menores."
   ]
  },
  {
   "cell_type": "code",
   "execution_count": 5,
   "id": "9b11954b",
   "metadata": {},
   "outputs": [],
   "source": [
    "produtos_quantidade = {}\n",
    "pais_regiao_vendas = {}\n",
    "produtos_vendas_mensais = {}"
   ]
  },
  {
   "cell_type": "markdown",
   "id": "3a01f2f6",
   "metadata": {},
   "source": [
    "### Leitura em chunks\n",
    "\n",
    "Como a memoria e limitada vamos utilizar a técnica de chunking para processar este grande volume de dados de mil em mil."
   ]
  },
  {
   "cell_type": "code",
   "execution_count": 6,
   "id": "c1fbe715",
   "metadata": {},
   "outputs": [],
   "source": [
    "chunksize = 1000\n",
    "for chunk in pd.read_csv('vendas.csv', chunksize=chunksize, parse_dates=['Order Date']):\n",
    "    \n",
    "    # Produto mais vendido por quantidade e canal\n",
    "    chunk_grouped_produto = chunk.groupby(['Item Type', 'Sales Channel'])['Units Sold'].sum()\n",
    "    for (produto, canal), quantidade in chunk_grouped_produto.items():\n",
    "        if (produto, canal) not in produtos_quantidade:\n",
    "            produtos_quantidade[(produto, canal)] = 0\n",
    "        produtos_quantidade[(produto, canal)] += quantidade\n",
    "\n",
    "    # País e Região com maior volume de vendas em valor\n",
    "    chunk['Total Sales'] = chunk['Units Sold'] * chunk['Unit Price']\n",
    "    chunk_grouped_pais_regiao = chunk.groupby(['Country', 'Region'])['Total Sales'].sum()\n",
    "    for (pais, regiao), vendas in chunk_grouped_pais_regiao.items():\n",
    "        if (pais, regiao) not in pais_regiao_vendas:\n",
    "            pais_regiao_vendas[(pais, regiao)] = 0\n",
    "        pais_regiao_vendas[(pais, regiao)] += vendas\n",
    "\n",
    "    # Média de vendas mensais por produto\n",
    "    chunk['Month'] = chunk['Order Date'].dt.to_period('M')\n",
    "    chunk_grouped_produto_mes = chunk.groupby(['Item Type', 'Month'])['Total Sales'].sum()\n",
    "    for (produto, mes), vendas in chunk_grouped_produto_mes.items():\n",
    "        if produto not in produtos_vendas_mensais:\n",
    "            produtos_vendas_mensais[produto] = {}\n",
    "        if mes not in produtos_vendas_mensais[produto]:\n",
    "            produtos_vendas_mensais[produto][mes] = 0\n",
    "        produtos_vendas_mensais[produto][mes] += vendas"
   ]
  },
  {
   "cell_type": "markdown",
   "id": "0adf4727",
   "metadata": {},
   "source": [
    "### Produtos mais vendidos\n",
    "\n",
    "Este código encontra o produto que teve a maior quantidade de unidades vendidas, considerando o canl de vendas.\n",
    "\n",
    "Aqui a função **max** e **key=dprodutos_quantidade.get** permite identificar facilmente qual chave tem o maior quantidade vendida"
   ]
  },
  {
   "cell_type": "code",
   "execution_count": 7,
   "id": "15ddda0e",
   "metadata": {},
   "outputs": [
    {
     "name": "stdout",
     "output_type": "stream",
     "text": [
      "O produto mais vendido foi Cereal pelo canal Offline\n"
     ]
    }
   ],
   "source": [
    "produto_mais_vendido = max(produtos_quantidade, key=produtos_quantidade.get)\n",
    "print(f\"O produto mais vendido foi {produto_mais_vendido[0]} pelo canal {produto_mais_vendido[1]}\")"
   ]
  },
  {
   "cell_type": "markdown",
   "id": "1a4f33e5",
   "metadata": {},
   "source": [
    "### Pais e região com maior volume de vendas\n",
    "\n",
    "Nesta parte do código o objetivo foi encontrar a combinação de pais e região que teve o maior volume de vendas em termos de valor monetário.\n",
    "\n",
    "Esta sendo usado a função **max** com **key=pais_regiao_vendas.get** para encontrar a chave \"Pais e Região\"."
   ]
  },
  {
   "cell_type": "code",
   "execution_count": 8,
   "id": "c5077701",
   "metadata": {},
   "outputs": [
    {
     "name": "stdout",
     "output_type": "stream",
     "text": [
      "A maior venda foi em Rwanda, Sub-Saharan Africa\n"
     ]
    }
   ],
   "source": [
    "maior_venda_pais_regiao = max(pais_regiao_vendas, key=pais_regiao_vendas.get)\n",
    "print(f\"A maior venda foi em {maior_venda_pais_regiao[0]}, {maior_venda_pais_regiao[1]}\")"
   ]
  },
  {
   "cell_type": "markdown",
   "id": "f5a0b965",
   "metadata": {},
   "source": [
    "### Media de vendas mensais por produto\n",
    "\n",
    "Temos duas etapas aqui. \\\n",
    "**Primeiro:** Esta sendo realizado o cálculo da média de vendas por produto.\\\n",
    "**Segundo:** Este e um loop for que percorre cada intem no dicionario e apresenta o resultado com **print**."
   ]
  },
  {
   "cell_type": "code",
   "execution_count": 20,
   "id": "4e4de3d5",
   "metadata": {},
   "outputs": [
    {
     "name": "stdout",
     "output_type": "stream",
     "text": [
      "A média mensal de vendas do produto Baby Food é 4121979264.57\n",
      "A média mensal de vendas do produto Beverages é 766422870.63\n",
      "A média mensal de vendas do produto Cereal é 3321895316.21\n",
      "A média mensal de vendas do produto Clothes é 1764843963.33\n",
      "A média mensal de vendas do produto Cosmetics é 7061430780.67\n",
      "A média mensal de vendas do produto Fruits é 150599554.70\n",
      "A média mensal de vendas do produto Household é 10793288157.96\n",
      "A média mensal de vendas do produto Meat é 6816059248.59\n",
      "A média mensal de vendas do produto Office Supplies é 10523648469.69\n",
      "A média mensal de vendas do produto Personal Care é 1319238686.16\n",
      "A média mensal de vendas do produto Snacks é 2464503531.16\n",
      "A média mensal de vendas do produto Vegetables é 2487487415.14\n"
     ]
    }
   ],
   "source": [
    "media_vendas_mensais = {produto: sum(vendas.values()) / len(vendas) for produto, vendas in produtos_vendas_mensais.items()}\n",
    "for produto, media in media_vendas_mensais.items():\n",
    "    print(f\"A média mensal de vendas do produto {produto} é {media:.2f}\")"
   ]
  },
  {
   "cell_type": "markdown",
   "id": "499b960f",
   "metadata": {},
   "source": [
    "### Outra forma de apresentar a Media de vendas mensais por produto"
   ]
  },
  {
   "cell_type": "code",
   "execution_count": 19,
   "id": "059ac748",
   "metadata": {},
   "outputs": [
    {
     "name": "stdout",
     "output_type": "stream",
     "text": [
      "Produto              |         Média Mensal de Vendas\n",
      "==================================================\n",
      "Baby Food            |               4,121,979,264.57\n",
      "Beverages            |                 766,422,870.63\n",
      "Cereal               |               3,321,895,316.21\n",
      "Clothes              |               1,764,843,963.33\n",
      "Cosmetics            |               7,061,430,780.67\n",
      "Fruits               |                 150,599,554.70\n",
      "Household            |              10,793,288,157.96\n",
      "Meat                 |               6,816,059,248.59\n",
      "Office Supplies      |              10,523,648,469.69\n",
      "Personal Care        |               1,319,238,686.16\n",
      "Snacks               |               2,464,503,531.16\n",
      "Vegetables           |               2,487,487,415.14\n"
     ]
    }
   ],
   "source": [
    "# Reformatando a saída das médias mensais\n",
    "print(f\"{'Produto':<20} | {'Média Mensal de Vendas':>30}\")\n",
    "print(\"=\" * 50)\n",
    "for produto, media in media_vendas_mensais.items():\n",
    "    print(f\"{produto:<20} | {media:>30,.2f}\")"
   ]
  },
  {
   "cell_type": "code",
   "execution_count": null,
   "id": "d281f6f9",
   "metadata": {},
   "outputs": [],
   "source": []
  }
 ],
 "metadata": {
  "kernelspec": {
   "display_name": "Python 3 (ipykernel)",
   "language": "python",
   "name": "python3"
  },
  "language_info": {
   "codemirror_mode": {
    "name": "ipython",
    "version": 3
   },
   "file_extension": ".py",
   "mimetype": "text/x-python",
   "name": "python",
   "nbconvert_exporter": "python",
   "pygments_lexer": "ipython3",
   "version": "3.11.7"
  }
 },
 "nbformat": 4,
 "nbformat_minor": 5
}
